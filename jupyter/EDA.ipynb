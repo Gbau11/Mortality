{
 "cells": [
  {
   "cell_type": "code",
   "execution_count": 1,
   "id": "83d4a75e",
   "metadata": {},
   "outputs": [],
   "source": [
    "import pandas as pd\n",
    "\n",
    "pd.set_option('display.max_columns', None)\n",
    "pd.set_option('display.max_rows', 150)"
   ]
  },
  {
   "cell_type": "code",
   "execution_count": 2,
   "id": "30e53289",
   "metadata": {},
   "outputs": [],
   "source": [
    "from scipy.stats import spearmanr, pearsonr"
   ]
  },
  {
   "cell_type": "code",
   "execution_count": 3,
   "id": "23dcd46a",
   "metadata": {},
   "outputs": [],
   "source": [
    "df = pd.read_csv('../csv/completa_per_cap.csv')"
   ]
  },
  {
   "cell_type": "code",
   "execution_count": 4,
   "id": "abe91e47",
   "metadata": {
    "scrolled": true
   },
   "outputs": [
    {
     "ename": "KeyError",
     "evalue": "\"['Unnamed: 0'] not found in axis\"",
     "output_type": "error",
     "traceback": [
      "\u001b[1;31m---------------------------------------------------------------------------\u001b[0m",
      "\u001b[1;31mKeyError\u001b[0m                                  Traceback (most recent call last)",
      "Cell \u001b[1;32mIn[4], line 1\u001b[0m\n\u001b[1;32m----> 1\u001b[0m df \u001b[38;5;241m=\u001b[39m df\u001b[38;5;241m.\u001b[39mdrop(columns\u001b[38;5;241m=\u001b[39m\u001b[38;5;124m'\u001b[39m\u001b[38;5;124mUnnamed: 0\u001b[39m\u001b[38;5;124m'\u001b[39m)\n\u001b[0;32m      3\u001b[0m df\u001b[38;5;241m.\u001b[39mhead()\n",
      "File \u001b[1;32m~\\anaconda3\\Lib\\site-packages\\pandas\\core\\frame.py:5258\u001b[0m, in \u001b[0;36mDataFrame.drop\u001b[1;34m(self, labels, axis, index, columns, level, inplace, errors)\u001b[0m\n\u001b[0;32m   5110\u001b[0m \u001b[38;5;28;01mdef\u001b[39;00m \u001b[38;5;21mdrop\u001b[39m(\n\u001b[0;32m   5111\u001b[0m     \u001b[38;5;28mself\u001b[39m,\n\u001b[0;32m   5112\u001b[0m     labels: IndexLabel \u001b[38;5;241m=\u001b[39m \u001b[38;5;28;01mNone\u001b[39;00m,\n\u001b[1;32m   (...)\u001b[0m\n\u001b[0;32m   5119\u001b[0m     errors: IgnoreRaise \u001b[38;5;241m=\u001b[39m \u001b[38;5;124m\"\u001b[39m\u001b[38;5;124mraise\u001b[39m\u001b[38;5;124m\"\u001b[39m,\n\u001b[0;32m   5120\u001b[0m ) \u001b[38;5;241m-\u001b[39m\u001b[38;5;241m>\u001b[39m DataFrame \u001b[38;5;241m|\u001b[39m \u001b[38;5;28;01mNone\u001b[39;00m:\n\u001b[0;32m   5121\u001b[0m \u001b[38;5;250m    \u001b[39m\u001b[38;5;124;03m\"\"\"\u001b[39;00m\n\u001b[0;32m   5122\u001b[0m \u001b[38;5;124;03m    Drop specified labels from rows or columns.\u001b[39;00m\n\u001b[0;32m   5123\u001b[0m \n\u001b[1;32m   (...)\u001b[0m\n\u001b[0;32m   5256\u001b[0m \u001b[38;5;124;03m            weight  1.0     0.8\u001b[39;00m\n\u001b[0;32m   5257\u001b[0m \u001b[38;5;124;03m    \"\"\"\u001b[39;00m\n\u001b[1;32m-> 5258\u001b[0m     \u001b[38;5;28;01mreturn\u001b[39;00m \u001b[38;5;28msuper\u001b[39m()\u001b[38;5;241m.\u001b[39mdrop(\n\u001b[0;32m   5259\u001b[0m         labels\u001b[38;5;241m=\u001b[39mlabels,\n\u001b[0;32m   5260\u001b[0m         axis\u001b[38;5;241m=\u001b[39maxis,\n\u001b[0;32m   5261\u001b[0m         index\u001b[38;5;241m=\u001b[39mindex,\n\u001b[0;32m   5262\u001b[0m         columns\u001b[38;5;241m=\u001b[39mcolumns,\n\u001b[0;32m   5263\u001b[0m         level\u001b[38;5;241m=\u001b[39mlevel,\n\u001b[0;32m   5264\u001b[0m         inplace\u001b[38;5;241m=\u001b[39minplace,\n\u001b[0;32m   5265\u001b[0m         errors\u001b[38;5;241m=\u001b[39merrors,\n\u001b[0;32m   5266\u001b[0m     )\n",
      "File \u001b[1;32m~\\anaconda3\\Lib\\site-packages\\pandas\\core\\generic.py:4549\u001b[0m, in \u001b[0;36mNDFrame.drop\u001b[1;34m(self, labels, axis, index, columns, level, inplace, errors)\u001b[0m\n\u001b[0;32m   4547\u001b[0m \u001b[38;5;28;01mfor\u001b[39;00m axis, labels \u001b[38;5;129;01min\u001b[39;00m axes\u001b[38;5;241m.\u001b[39mitems():\n\u001b[0;32m   4548\u001b[0m     \u001b[38;5;28;01mif\u001b[39;00m labels \u001b[38;5;129;01mis\u001b[39;00m \u001b[38;5;129;01mnot\u001b[39;00m \u001b[38;5;28;01mNone\u001b[39;00m:\n\u001b[1;32m-> 4549\u001b[0m         obj \u001b[38;5;241m=\u001b[39m obj\u001b[38;5;241m.\u001b[39m_drop_axis(labels, axis, level\u001b[38;5;241m=\u001b[39mlevel, errors\u001b[38;5;241m=\u001b[39merrors)\n\u001b[0;32m   4551\u001b[0m \u001b[38;5;28;01mif\u001b[39;00m inplace:\n\u001b[0;32m   4552\u001b[0m     \u001b[38;5;28mself\u001b[39m\u001b[38;5;241m.\u001b[39m_update_inplace(obj)\n",
      "File \u001b[1;32m~\\anaconda3\\Lib\\site-packages\\pandas\\core\\generic.py:4591\u001b[0m, in \u001b[0;36mNDFrame._drop_axis\u001b[1;34m(self, labels, axis, level, errors, only_slice)\u001b[0m\n\u001b[0;32m   4589\u001b[0m         new_axis \u001b[38;5;241m=\u001b[39m axis\u001b[38;5;241m.\u001b[39mdrop(labels, level\u001b[38;5;241m=\u001b[39mlevel, errors\u001b[38;5;241m=\u001b[39merrors)\n\u001b[0;32m   4590\u001b[0m     \u001b[38;5;28;01melse\u001b[39;00m:\n\u001b[1;32m-> 4591\u001b[0m         new_axis \u001b[38;5;241m=\u001b[39m axis\u001b[38;5;241m.\u001b[39mdrop(labels, errors\u001b[38;5;241m=\u001b[39merrors)\n\u001b[0;32m   4592\u001b[0m     indexer \u001b[38;5;241m=\u001b[39m axis\u001b[38;5;241m.\u001b[39mget_indexer(new_axis)\n\u001b[0;32m   4594\u001b[0m \u001b[38;5;66;03m# Case for non-unique axis\u001b[39;00m\n\u001b[0;32m   4595\u001b[0m \u001b[38;5;28;01melse\u001b[39;00m:\n",
      "File \u001b[1;32m~\\anaconda3\\Lib\\site-packages\\pandas\\core\\indexes\\base.py:6699\u001b[0m, in \u001b[0;36mIndex.drop\u001b[1;34m(self, labels, errors)\u001b[0m\n\u001b[0;32m   6697\u001b[0m \u001b[38;5;28;01mif\u001b[39;00m mask\u001b[38;5;241m.\u001b[39many():\n\u001b[0;32m   6698\u001b[0m     \u001b[38;5;28;01mif\u001b[39;00m errors \u001b[38;5;241m!=\u001b[39m \u001b[38;5;124m\"\u001b[39m\u001b[38;5;124mignore\u001b[39m\u001b[38;5;124m\"\u001b[39m:\n\u001b[1;32m-> 6699\u001b[0m         \u001b[38;5;28;01mraise\u001b[39;00m \u001b[38;5;167;01mKeyError\u001b[39;00m(\u001b[38;5;124mf\u001b[39m\u001b[38;5;124m\"\u001b[39m\u001b[38;5;132;01m{\u001b[39;00m\u001b[38;5;28mlist\u001b[39m(labels[mask])\u001b[38;5;132;01m}\u001b[39;00m\u001b[38;5;124m not found in axis\u001b[39m\u001b[38;5;124m\"\u001b[39m)\n\u001b[0;32m   6700\u001b[0m     indexer \u001b[38;5;241m=\u001b[39m indexer[\u001b[38;5;241m~\u001b[39mmask]\n\u001b[0;32m   6701\u001b[0m \u001b[38;5;28;01mreturn\u001b[39;00m \u001b[38;5;28mself\u001b[39m\u001b[38;5;241m.\u001b[39mdelete(indexer)\n",
      "\u001b[1;31mKeyError\u001b[0m: \"['Unnamed: 0'] not found in axis\""
     ]
    }
   ],
   "source": [
    "df = df.drop(columns='Unnamed: 0')\n",
    "\n",
    "df.head()"
   ]
  },
  {
   "cell_type": "code",
   "execution_count": null,
   "id": "554c7d15",
   "metadata": {},
   "outputs": [],
   "source": [
    "df = df[df['Country'] != 'Montenegro']\n",
    "\n",
    "df.Country.value_counts()"
   ]
  },
  {
   "cell_type": "code",
   "execution_count": null,
   "id": "c185b521",
   "metadata": {},
   "outputs": [],
   "source": [
    "df.Country.nunique()"
   ]
  },
  {
   "cell_type": "code",
   "execution_count": null,
   "id": "0eaec574",
   "metadata": {},
   "outputs": [],
   "source": [
    "df['Alzheimers Disease and Other Dementias/cap'] = df['Alzheimers Disease and Other Dementias']/df['Population']\n",
    "\n",
    "df"
   ]
  },
  {
   "cell_type": "code",
   "execution_count": null,
   "id": "9718d857",
   "metadata": {},
   "outputs": [],
   "source": [
    "correlaciones_pais_tuplas = []\n",
    "\n",
    "\n",
    "for i in range(0, len(df), 26):\n",
    "    \n",
    "    grupo_pais = df.iloc[i:i+26]\n",
    "        \n",
    "    correlacion = grupo_pais['Alzheimers Disease and Other Dementias'].corr(grupo_pais['Unemployment'])\n",
    "    \n",
    "    pais = grupo_pais['Country'].iloc[0]\n",
    "    \n",
    "    correlaciones_pais_tuplas.append((pais, correlacion))\n",
    "\n",
    "correlaciones_pais_tuplas"
   ]
  },
  {
   "cell_type": "code",
   "execution_count": null,
   "id": "8c93140b",
   "metadata": {
    "scrolled": true
   },
   "outputs": [],
   "source": [
    "# Alzheimers Disease and Other Dementias y Unemployment\n",
    "\n",
    "correlaciones_por_pais = {}\n",
    "\n",
    "for i in range(0, len(df), 26):\n",
    "\n",
    "    grupo_pais = df.iloc[i:i+26]\n",
    "    \n",
    "    correlacion = grupo_pais['Alzheimers Disease and Other Dementias/cap'].corr(grupo_pais['Unemployment'], method='pearson')\n",
    "    \n",
    "    pais = grupo_pais['Country'].iloc[0]\n",
    "    \n",
    "    correlaciones_por_pais[pais] = correlacion\n",
    "    \n",
    "correlaciones_por_pais\n",
    "\n",
    "\n",
    "\n",
    "correlaciones_significativas = {}\n",
    "\n",
    "for pais, correlacion in correlaciones_por_pais.items():\n",
    "\n",
    "    if abs(correlacion) > 0.5:\n",
    "\n",
    "        correlaciones_significativas[pais] = correlacion\n",
    "        \n",
    "total_claves = len(correlaciones_por_pais)\n",
    "\n",
    "claves_significativas = len(correlaciones_significativas)\n",
    "\n",
    "porcentaje_significativas = (claves_significativas / total_claves) * 100\n",
    "\n",
    "print(\"Porcentaje de claves significativas:\", porcentaje_significativas)\n",
    "correlaciones_significativas"
   ]
  },
  {
   "cell_type": "code",
   "execution_count": null,
   "id": "667ea8ce",
   "metadata": {},
   "outputs": [],
   "source": [
    "datos_afgan = df[df['Country'] == 'Afghanistan']"
   ]
  },
  {
   "cell_type": "code",
   "execution_count": null,
   "id": "2f0ce29e",
   "metadata": {},
   "outputs": [],
   "source": []
  },
  {
   "cell_type": "code",
   "execution_count": null,
   "id": "4f6597d6",
   "metadata": {
    "scrolled": true
   },
   "outputs": [],
   "source": [
    "lista_correlaciones = []\n",
    "\n",
    "for pais in df['Country'].unique():\n",
    "\n",
    "    datos_pais = df[df['Country'] == pais]\n",
    "    \n",
    "    correlation, p_value = spearmanr(datos_pais['Alzheimers Disease and Other Dementias/cap'], datos_pais['Unemployment'])\n",
    "    \n",
    "    lista_correlaciones.append((pais, correlation, p_value))\n",
    "\n",
    "#lista_correlaciones\n",
    "\n",
    "tuplas_significativas = [(pais, correlacion, p_valor) for pais, correlacion, p_valor in lista_correlaciones if p_valor < 0.05]\n",
    "\n",
    "cantidad_significativas = len(tuplas_significativas)\n",
    "\n",
    "porcentaje_significativas = (cantidad_significativas / len(lista_correlaciones)) * 100\n",
    "\n",
    "print(\"Porcentaje de tuplas significativas respecto al total:\", porcentaje_significativas, \"%\")\n",
    "\n",
    "tuplas_significativas"
   ]
  },
  {
   "cell_type": "code",
   "execution_count": null,
   "id": "2cb292e1",
   "metadata": {},
   "outputs": [],
   "source": [
    "correlation, p_value = spearmanr(datos_afgan['Alzheimers Disease and Other Dementias/cap'], datos_afgan['Unemployment'])\n",
    "\n",
    "print(\"Coeficiente de correlación de Spearman:\", correlation)\n",
    "\n",
    "print(\"Valor p:\", p_value)"
   ]
  },
  {
   "cell_type": "code",
   "execution_count": null,
   "id": "5f0d80f3",
   "metadata": {
    "scrolled": true
   },
   "outputs": [],
   "source": [
    "# Alzheimers Disease and Other Dementias y Unemployment\n",
    "\n",
    "correlaciones_por_pais = {}\n",
    "\n",
    "for i in range(0, len(df), 26):\n",
    "\n",
    "    grupo_pais = df.iloc[i:i+26]\n",
    "    \n",
    "    correlacion = grupo_pais['Alzheimers Disease and Other Dementias/cap'].corr(grupo_pais['Unemployment'], method='spearman')\n",
    "    \n",
    "    pais = grupo_pais['Country'].iloc[0]\n",
    "    \n",
    "    correlaciones_por_pais[pais] = correlacion\n",
    "    \n",
    "correlaciones_por_pais\n",
    "\n",
    "\n",
    "\n",
    "correlaciones_significativas = {}\n",
    "\n",
    "for pais, correlacion in correlaciones_por_pais.items():\n",
    "\n",
    "    if abs(correlacion) > 0.5:\n",
    "\n",
    "        correlaciones_significativas[pais] = correlacion\n",
    "        \n",
    "total_claves = len(correlaciones_por_pais)\n",
    "\n",
    "claves_significativas = len(correlaciones_significativas)\n",
    "\n",
    "porcentaje_significativas = (claves_significativas / total_claves) * 100\n",
    "\n",
    "print(\"Porcentaje de claves significativas:\", porcentaje_significativas)\n",
    "correlaciones_significativas"
   ]
  },
  {
   "cell_type": "code",
   "execution_count": null,
   "id": "17808550",
   "metadata": {},
   "outputs": [],
   "source": []
  },
  {
   "cell_type": "code",
   "execution_count": null,
   "id": "a9b4bd42",
   "metadata": {},
   "outputs": [],
   "source": [
    "df['Cardiovascular Diseases/cap'] = df['Cardiovascular Diseases']/df['Population']\n",
    "\n",
    "df"
   ]
  },
  {
   "cell_type": "code",
   "execution_count": null,
   "id": "c4e07178",
   "metadata": {},
   "outputs": [],
   "source": [
    "# Cardiovascular Diseases/cap y Obesity(%)\n",
    "\n",
    "correlaciones_por_pais = {}\n",
    "\n",
    "for i in range(0, len(df), 26):\n",
    "\n",
    "    grupo_pais = df.iloc[i:i+26]\n",
    "    \n",
    "    correlacion = grupo_pais['Cardiovascular Diseases/cap'].corr(grupo_pais['Obesity(%)'], method='pearson')\n",
    "    \n",
    "    pais = grupo_pais['Country'].iloc[0]\n",
    "    \n",
    "    correlaciones_por_pais[pais] = correlacion\n",
    "    \n",
    "correlaciones_por_pais\n",
    "\n",
    "\n",
    "\n",
    "correlaciones_significativas = {}\n",
    "\n",
    "for pais, correlacion in correlaciones_por_pais.items():\n",
    "\n",
    "    if abs(correlacion) > 0.5:\n",
    "\n",
    "        correlaciones_significativas[pais] = correlacion\n",
    "        \n",
    "total_claves = len(correlaciones_por_pais)\n",
    "\n",
    "claves_significativas = len(correlaciones_significativas)\n",
    "\n",
    "porcentaje_significativas = (claves_significativas / total_claves) * 100\n",
    "\n",
    "print(\"Porcentaje de claves significativas:\", porcentaje_significativas)\n",
    "correlaciones_significativas"
   ]
  },
  {
   "cell_type": "code",
   "execution_count": null,
   "id": "ece0ee54",
   "metadata": {},
   "outputs": [],
   "source": [
    "# Cardiovascular Diseases/cap y Obesity(%)\n",
    "\n",
    "correlaciones_por_pais = {}\n",
    "\n",
    "for i in range(0, len(df), 26):\n",
    "\n",
    "    grupo_pais = df.iloc[i:i+26]\n",
    "    \n",
    "    correlacion = grupo_pais['Cardiovascular Diseases/cap'].corr(grupo_pais['Obesity(%)'], method='spearman')\n",
    "    \n",
    "    pais = grupo_pais['Country'].iloc[0]\n",
    "    \n",
    "    correlaciones_por_pais[pais] = correlacion\n",
    "    \n",
    "correlaciones_por_pais\n",
    "\n",
    "\n",
    "\n",
    "correlaciones_significativas = {}\n",
    "\n",
    "for pais, correlacion in correlaciones_por_pais.items():\n",
    "\n",
    "    if abs(correlacion) > 0.5:\n",
    "\n",
    "        correlaciones_significativas[pais] = correlacion\n",
    "        \n",
    "total_claves = len(correlaciones_por_pais)\n",
    "\n",
    "claves_significativas = len(correlaciones_significativas)\n",
    "\n",
    "porcentaje_significativas = (claves_significativas / total_claves) * 100\n",
    "\n",
    "print(\"Porcentaje de claves significativas:\", porcentaje_significativas)\n",
    "correlaciones_significativas"
   ]
  },
  {
   "cell_type": "code",
   "execution_count": null,
   "id": "18aabd85",
   "metadata": {
    "scrolled": true
   },
   "outputs": [],
   "source": [
    "df_lux = df[df.Country == 'Luxembourg']\n",
    "\n",
    "df_lux"
   ]
  },
  {
   "cell_type": "code",
   "execution_count": null,
   "id": "0394b732",
   "metadata": {
    "scrolled": true
   },
   "outputs": [],
   "source": [
    "df['Chronic Respiratory Diseases/cap'] = df['Chronic Respiratory Diseases']/df['Population']\n",
    "\n",
    "df"
   ]
  },
  {
   "cell_type": "code",
   "execution_count": null,
   "id": "7603f7c7",
   "metadata": {},
   "outputs": [],
   "source": []
  },
  {
   "cell_type": "code",
   "execution_count": null,
   "id": "09ac492f",
   "metadata": {
    "scrolled": true
   },
   "outputs": [],
   "source": [
    "# Chronic Respiratory Diseases/cap y CO2/cap\n",
    "\n",
    "correlaciones_por_pais = {}\n",
    "\n",
    "for i in range(0, len(df), 26):\n",
    "\n",
    "    grupo_pais = df.iloc[i:i+26]\n",
    "    \n",
    "    correlacion = grupo_pais['Chronic Respiratory Diseases/cap'].corr(grupo_pais['CO2/cap'], method='pearson')\n",
    "    \n",
    "    pais = grupo_pais['Country'].iloc[0]\n",
    "    \n",
    "    correlaciones_por_pais[pais] = correlacion\n",
    "    \n",
    "correlaciones_por_pais\n",
    "\n",
    "\n",
    "\n",
    "correlaciones_significativas = {}\n",
    "\n",
    "for pais, correlacion in correlaciones_por_pais.items():\n",
    "\n",
    "    if abs(correlacion) > 0.8:\n",
    "\n",
    "        correlaciones_significativas[pais] = correlacion\n",
    "        \n",
    "total_claves = len(correlaciones_por_pais)\n",
    "\n",
    "claves_significativas = len(correlaciones_significativas)\n",
    "\n",
    "porcentaje_significativas = (claves_significativas / total_claves) * 100\n",
    "\n",
    "print(\"Porcentaje de claves significativas:\", porcentaje_significativas)\n",
    "correlaciones_significativas"
   ]
  },
  {
   "cell_type": "code",
   "execution_count": null,
   "id": "664ecd86",
   "metadata": {
    "scrolled": true
   },
   "outputs": [],
   "source": [
    "# Chronic Respiratory Diseases/cap y CO2/cap\n",
    "\n",
    "correlaciones_por_pais = {}\n",
    "\n",
    "for i in range(0, len(df), 26):\n",
    "\n",
    "    grupo_pais = df.iloc[i:i+26]\n",
    "    \n",
    "    correlacion = grupo_pais['Chronic Respiratory Diseases/cap'].corr(grupo_pais['CO2/cap'], method='spearman')\n",
    "    \n",
    "    pais = grupo_pais['Country'].iloc[0]\n",
    "    \n",
    "    correlaciones_por_pais[pais] = correlacion\n",
    "    \n",
    "correlaciones_por_pais\n",
    "\n",
    "\n",
    "\n",
    "correlaciones_significativas = {}\n",
    "\n",
    "for pais, correlacion in correlaciones_por_pais.items():\n",
    "\n",
    "    if abs(correlacion) > 0.8:\n",
    "\n",
    "        correlaciones_significativas[pais] = correlacion\n",
    "        \n",
    "total_claves = len(correlaciones_por_pais)\n",
    "\n",
    "claves_significativas = len(correlaciones_significativas)\n",
    "\n",
    "porcentaje_significativas = (claves_significativas / total_claves) * 100\n",
    "\n",
    "print(\"Porcentaje de claves significativas:\", porcentaje_significativas)\n",
    "correlaciones_significativas"
   ]
  },
  {
   "cell_type": "code",
   "execution_count": null,
   "id": "58b80e6c",
   "metadata": {},
   "outputs": [],
   "source": [
    "df['Drug Use Disorders/cap'] = df['Drug Use Disorders']/df['Population']\n",
    "\n",
    "df"
   ]
  },
  {
   "cell_type": "code",
   "execution_count": null,
   "id": "f917a0e9",
   "metadata": {
    "scrolled": true
   },
   "outputs": [],
   "source": [
    "# Drug Use Disorders/cap y GDP/cap\n",
    "\n",
    "correlaciones_por_pais = {}\n",
    "\n",
    "for i in range(0, len(df), 26):\n",
    "\n",
    "    grupo_pais = df.iloc[i:i+26]\n",
    "    \n",
    "    correlacion = grupo_pais['Drug Use Disorders/cap'].corr(grupo_pais['GDP/cap'], method='pearson')\n",
    "    \n",
    "    pais = grupo_pais['Country'].iloc[0]\n",
    "    \n",
    "    correlaciones_por_pais[pais] = correlacion\n",
    "    \n",
    "correlaciones_por_pais\n",
    "\n",
    "\n",
    "\n",
    "correlaciones_significativas = {}\n",
    "\n",
    "for pais, correlacion in correlaciones_por_pais.items():\n",
    "\n",
    "    if abs(correlacion) > 0.8:\n",
    "\n",
    "        correlaciones_significativas[pais] = correlacion\n",
    "        \n",
    "total_claves = len(correlaciones_por_pais)\n",
    "\n",
    "claves_significativas = len(correlaciones_significativas)\n",
    "\n",
    "porcentaje_significativas = (claves_significativas / total_claves) * 100\n",
    "\n",
    "print(\"Porcentaje de claves significativas:\", porcentaje_significativas)\n",
    "correlaciones_significativas"
   ]
  },
  {
   "cell_type": "code",
   "execution_count": null,
   "id": "9c5e977e",
   "metadata": {},
   "outputs": [],
   "source": [
    "# Drug Use Disorders/cap y GDP/cap\n",
    "\n",
    "correlaciones_por_pais = {}\n",
    "\n",
    "for i in range(0, len(df), 26):\n",
    "\n",
    "    grupo_pais = df.iloc[i:i+26]\n",
    "    \n",
    "    correlacion = grupo_pais['Drug Use Disorders/cap'].corr(grupo_pais['GDP/cap'], method='spearman')\n",
    "    \n",
    "    pais = grupo_pais['Country'].iloc[0]\n",
    "    \n",
    "    correlaciones_por_pais[pais] = correlacion\n",
    "    \n",
    "correlaciones_por_pais\n",
    "\n",
    "\n",
    "\n",
    "correlaciones_significativas = {}\n",
    "\n",
    "for pais, correlacion in correlaciones_por_pais.items():\n",
    "\n",
    "    if abs(correlacion) > 0.8:\n",
    "\n",
    "        correlaciones_significativas[pais] = correlacion\n",
    "        \n",
    "total_claves = len(correlaciones_por_pais)\n",
    "\n",
    "claves_significativas = len(correlaciones_significativas)\n",
    "\n",
    "porcentaje_significativas = (claves_significativas / total_claves) * 100\n",
    "\n",
    "print(\"Porcentaje de claves significativas:\", porcentaje_significativas)\n",
    "correlaciones_significativas"
   ]
  },
  {
   "cell_type": "code",
   "execution_count": null,
   "id": "2e109cb2",
   "metadata": {
    "scrolled": true
   },
   "outputs": [],
   "source": [
    "lista_correlaciones = []\n",
    "\n",
    "for pais in df['Country'].unique():\n",
    "\n",
    "    datos_pais = df[df['Country'] == pais]\n",
    "    \n",
    "    correlation, p_value = spearmanr(datos_pais['Chronic Respiratory Diseases/cap'], datos_pais['CO2/cap'])\n",
    "    \n",
    "    lista_correlaciones.append((pais, correlation, p_value))\n",
    "\n",
    "#lista_correlaciones\n",
    "\n",
    "tuplas_significativas = [(pais, correlacion, p_valor) for pais, correlacion, p_valor in lista_correlaciones if p_valor < 0.05]\n",
    "\n",
    "cantidad_significativas = len(tuplas_significativas)\n",
    "\n",
    "porcentaje_significativas = (cantidad_significativas / len(lista_correlaciones)) * 100\n",
    "\n",
    "print(\"Porcentaje de tuplas significativas respecto al total:\", porcentaje_significativas, \"%\")\n",
    "\n",
    "tuplas_significativas"
   ]
  },
  {
   "cell_type": "code",
   "execution_count": null,
   "id": "905aa802",
   "metadata": {},
   "outputs": [],
   "source": [
    "lista_correlaciones = []\n",
    "\n",
    "for pais in df['Country'].unique():\n",
    "\n",
    "    datos_pais = df[df['Country'] == pais]\n",
    "    \n",
    "    correlation, p_value = pearsonr(datos_pais['Chronic Respiratory Diseases/cap'], datos_pais['CO2/cap'])\n",
    "    \n",
    "    lista_correlaciones.append((pais, correlation, p_value))\n",
    "\n",
    "#lista_correlaciones\n",
    "\n",
    "tuplas_significativas = [(pais, correlacion, p_valor) for pais, correlacion, p_valor in lista_correlaciones if p_valor < 0.05]\n",
    "\n",
    "cantidad_significativas = len(tuplas_significativas)\n",
    "\n",
    "porcentaje_significativas = (cantidad_significativas / len(lista_correlaciones)) * 100\n",
    "\n",
    "print(\"Porcentaje de tuplas significativas respecto al total:\", porcentaje_significativas, \"%\")\n",
    "\n",
    "tuplas_significativas"
   ]
  },
  {
   "cell_type": "code",
   "execution_count": null,
   "id": "1e78c6be",
   "metadata": {
    "scrolled": false
   },
   "outputs": [],
   "source": [
    "lista_correlaciones = []\n",
    "\n",
    "for pais in df['Country'].unique():\n",
    "\n",
    "    datos_pais = df[df['Country'] == pais]\n",
    "    \n",
    "    correlation, p_value = pearsonr(datos_pais['Cardiovascular Diseases/cap'], datos_pais['Obesity(%)'])\n",
    "    \n",
    "    lista_correlaciones.append((pais, correlation, p_value))\n",
    "\n",
    "#lista_correlaciones\n",
    "\n",
    "tuplas_significativas = [(pais, correlacion, p_valor) for pais, correlacion, p_valor in lista_correlaciones if p_valor < 0.05]\n",
    "\n",
    "cantidad_significativas = len(tuplas_significativas)\n",
    "\n",
    "porcentaje_significativas = (cantidad_significativas / len(lista_correlaciones)) * 100\n",
    "\n",
    "print(\"Porcentaje de tuplas significativas respecto al total:\", porcentaje_significativas, \"%\")\n",
    "\n",
    "tuplas_significativas"
   ]
  },
  {
   "cell_type": "code",
   "execution_count": null,
   "id": "a3787513",
   "metadata": {},
   "outputs": [],
   "source": [
    "lista_correlaciones = []\n",
    "\n",
    "for pais in df['Country'].unique():\n",
    "\n",
    "    datos_pais = df[df['Country'] == pais]\n",
    "    \n",
    "    correlation, p_value = spearmanr(datos_pais['Cardiovascular Diseases/cap'], datos_pais['Obesity(%)'])\n",
    "    \n",
    "    lista_correlaciones.append((pais, correlation, p_value))\n",
    "\n",
    "#lista_correlaciones\n",
    "\n",
    "tuplas_significativas = [(pais, correlacion, p_valor) for pais, correlacion, p_valor in lista_correlaciones if p_valor < 0.05]\n",
    "\n",
    "cantidad_significativas = len(tuplas_significativas)\n",
    "\n",
    "porcentaje_significativas = (cantidad_significativas / len(lista_correlaciones)) * 100\n",
    "\n",
    "print(\"Porcentaje de tuplas significativas respecto al total:\", porcentaje_significativas, \"%\")\n",
    "\n",
    "tuplas_significativas"
   ]
  },
  {
   "cell_type": "code",
   "execution_count": null,
   "id": "2dfc2c0d",
   "metadata": {},
   "outputs": [],
   "source": [
    "'Total alcohol per capita(L)','Self-harm','Diabetes Mellitus','Drug Use Disorders','Obesity(%)','Unemployment'"
   ]
  },
  {
   "cell_type": "code",
   "execution_count": null,
   "id": "6944e881",
   "metadata": {},
   "outputs": [],
   "source": [
    "df['Self-harm/cap'] = df['Self-harm']/df['Population']\n",
    "\n",
    "df"
   ]
  },
  {
   "cell_type": "code",
   "execution_count": null,
   "id": "9057a1a9",
   "metadata": {},
   "outputs": [],
   "source": [
    "df['Diabetes Mellitus/cap'] = df['Diabetes Mellitus']/df['Population']\n",
    "\n",
    "df"
   ]
  },
  {
   "cell_type": "code",
   "execution_count": null,
   "id": "e0c85278",
   "metadata": {},
   "outputs": [],
   "source": [
    "lista_correlaciones = []\n",
    "\n",
    "for pais in df['Country'].unique():\n",
    "\n",
    "    datos_pais = df[df['Country'] == pais]\n",
    "    \n",
    "    correlation, p_value = pearsonr(datos_pais['Cardiovascular Diseases/cap'], datos_pais['Obesity(%)'])\n",
    "    \n",
    "    lista_correlaciones.append((pais, correlation, p_value))\n",
    "\n",
    "#lista_correlaciones\n",
    "\n",
    "tuplas_significativas = [(pais, correlacion, p_valor) for pais, correlacion, p_valor in lista_correlaciones if p_valor < 0.05]\n",
    "\n",
    "cantidad_significativas = len(tuplas_significativas)\n",
    "\n",
    "porcentaje_significativas = (cantidad_significativas / len(lista_correlaciones)) * 100\n",
    "\n",
    "print(\"Porcentaje de tuplas significativas respecto al total:\", porcentaje_significativas, \"%\")\n",
    "\n",
    "tuplas_significativas"
   ]
  },
  {
   "cell_type": "code",
   "execution_count": null,
   "id": "72572aa0",
   "metadata": {},
   "outputs": [],
   "source": [
    "df.to_csv('../csv/completa_per_cap.csv_eda', index=False)"
   ]
  }
 ],
 "metadata": {
  "kernelspec": {
   "display_name": "Python 3 (ipykernel)",
   "language": "python",
   "name": "python3"
  },
  "language_info": {
   "codemirror_mode": {
    "name": "ipython",
    "version": 3
   },
   "file_extension": ".py",
   "mimetype": "text/x-python",
   "name": "python",
   "nbconvert_exporter": "python",
   "pygments_lexer": "ipython3",
   "version": "3.11.5"
  }
 },
 "nbformat": 4,
 "nbformat_minor": 5
}
